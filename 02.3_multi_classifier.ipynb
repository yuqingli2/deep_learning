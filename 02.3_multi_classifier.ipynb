{
 "cells": [
  {
   "cell_type": "markdown",
   "metadata": {},
   "source": [
    "<img src='images/Practicum_AI_Logo.white_outline.svg' width=250 alt='Practicum AI logo'> <img src='https://github.com/PracticumAI/practicumai.github.io/blob/main/images/icons/practicumai_beginner.png?raw=true' align='right' width=50>\n",
    "***\n",
    "# *Practicum AI:* Deep Learning - Multi-Classifier\n",
    "\n",
    "This exercise adapted from Baig et al. (2020) <i>The Deep Learning Workshop</i> from <a href=\"https://www.packtpub.com/product/the-deep-learning-workshop/9781839219856\">Packt Publishers</a> (Exercise 2.03, page 71)."
   ]
  },
  {
   "cell_type": "markdown",
   "metadata": {},
   "source": [
    "#### Introduction\n",
    "In this exercise, we use the [Iris dataset](https://archive.ics.uci.edu/ml/datasets/Iris) to create a multi-class classifier.  This is a popular educational dataset which contains 3 classes of Iris with 50 instances in each.  (The Iris is a flowering plant genus of 310 accepted species with showy flowers.)\n",
    "\n",
    "<img alt='The Iris.' src='images/iris.png' align='right' width=360 style=\"float: left; padding: 10px 0px 0px 10px\">"
   ]
  },
  {
   "cell_type": "markdown",
   "metadata": {},
   "source": [
    "#### 1. Import libraries\n",
    "\n",
    "Import the necessary libraries.  Note the import of pandas to support basic data wrangling tasks, the confusion matrix and accuracy score functions from SciKit-Learn, and matplotlib to visualize the data.\n"
   ]
  },
  {
   "cell_type": "code",
   "execution_count": 1,
   "metadata": {},
   "outputs": [],
   "source": [
    "import tensorflow as tf\n",
    "import pandas as pd\n",
    " \n",
    "from sklearn.metrics import confusion_matrix\n",
    "from sklearn.metrics import accuracy_score\n",
    "\n",
    "import matplotlib.pyplot as plt\n",
    "from pandas import get_dummies\n",
    "\n",
    "%matplotlib inline"
   ]
  },
  {
   "cell_type": "markdown",
   "metadata": {},
   "source": [
    "#### 2. Load the iris.csv data"
   ]
  },
  {
   "cell_type": "code",
   "execution_count": 2,
   "metadata": {
    "tags": []
   },
   "outputs": [],
   "source": [
    "# Place the CSV file in your data sub-folder and reference it there.\n",
    "df = pd.read_csv('data/iris.csv')\n",
    "\n",
    "# Or if using Google Colab:\n",
    "# df = pd.read_csv('https://raw.githubusercontent.com/PracticumAI/deep_learning/main/data/iris.csv')"
   ]
  },
  {
   "cell_type": "markdown",
   "metadata": {},
   "source": [
    "#### 3. Examine the first 5 rows of data\n",
    "Use the `head()` method to examine the first 5 rows.\n",
    "\n",
    "```python\n",
    "df.head()\n",
    "```"
   ]
  },
  {
   "cell_type": "code",
   "execution_count": null,
   "metadata": {},
   "outputs": [],
   "source": [
    "# Code it!"
   ]
  },
  {
   "cell_type": "markdown",
   "metadata": {},
   "source": [
    "#### 4. Visualize the data\n",
    "Plot the data to see the three species of Iris in the dataset.  The x axis is sepal length while the y axis is sepal width.  The three Iris species are as follows:\n",
    "\n",
    "- etosa (star)\n",
    "- versicolor (triangle)\n",
    "- virginica (circle)"
   ]
  },
  {
   "cell_type": "code",
   "execution_count": 4,
   "metadata": {
    "tags": []
   },
   "outputs": [
    {
     "data": {
      "text/plain": [
       "<matplotlib.collections.PathCollection at 0x1a3f1a7b50>"
      ]
     },
     "execution_count": 4,
     "metadata": {},
     "output_type": "execute_result"
    },
    {
     "data": {
      "image/png": "[encoded data removed]",
      "text/plain": [
       "<Figure size 432x288 with 1 Axes>"
      ]
     },
     "metadata": {
      "needs_background": "light"
     },
     "output_type": "display_data"
    }
   ],
   "source": [
    "plt.scatter(df[df['species'] == 0]['sepallength'], df[df['species'] == 0]['sepalwidth'], marker='*')\n",
    "plt.scatter(df[df['species'] == 1]['sepallength'], df[df['species'] == 1]['sepalwidth'], marker='<')\n",
    "plt.scatter(df[df['species'] == 2]['sepallength'], df[df['species'] == 2]['sepalwidth'], marker='o')"
   ]
  },
  {
   "cell_type": "markdown",
   "metadata": {},
   "source": [
    "#### 5. Separate the features and labels\n",
    "\n",
    "```python\n",
    "x = df[['petallength', 'petalwidth', 'sepallength', 'sepalwidth']].values\n",
    "y = df['species'].values\n",
    "```"
   ]
  },
  {
   "cell_type": "code",
   "execution_count": null,
   "metadata": {},
   "outputs": [],
   "source": [
    "# Code it!"
   ]
  },
  {
   "cell_type": "markdown",
   "metadata": {},
   "source": [
    "#### 6. One-hot encode the classes\n",
    "The get_dummies() function converts the labels into a one-hot encoded format.\n",
    "\n",
    "```python\n",
    "y = get_dummies(y)\n",
    "y = y.values\n",
    "```"
   ]
  },
  {
   "cell_type": "code",
   "execution_count": null,
   "metadata": {},
   "outputs": [],
   "source": [
    "# Code it!"
   ]
  },
  {
   "cell_type": "markdown",
   "metadata": {},
   "source": [
    "#### 7. Create the features variable\n",
    "\n",
    "```python\n",
    "x = tf.Variable(x, dtype=tf.float32)\n",
    "```"
   ]
  },
  {
   "cell_type": "code",
   "execution_count": null,
   "metadata": {},
   "outputs": [],
   "source": [
    "# Code it!"
   ]
  },
  {
   "cell_type": "markdown",
   "metadata": {},
   "source": [
    "#### 8. Implement the perceptron with 3 neurons\n",
    "This code is similar to that used in the perceptron exercise.  However, the Number_of_units is set to 3.  Thus, the weight matrix is 4 x 3 and the bias matrix is 1 x 3.  Also, the softmax activation function is used here rather than sigmoid."
   ]
  },
  {
   "cell_type": "code",
   "execution_count": 8,
   "metadata": {
    "tags": []
   },
   "outputs": [],
   "source": [
    "Number_of_features = 4\n",
    "Number_of_units = 3 \n",
    " \n",
    "# Weights and bias\n",
    "weight = tf.Variable(tf.zeros([Number_of_features, Number_of_units]))  \n",
    "bias   = tf.Variable(tf.zeros([Number_of_units]))\n",
    " \n",
    "def perceptron(x):\n",
    "    z = tf.add(tf.matmul(x, weight), bias)\n",
    "    output = tf.nn.softmax(z)\n",
    "    return output\n"
   ]
  },
  {
   "cell_type": "markdown",
   "metadata": {},
   "source": [
    "#### 9. Create an optimizer\n",
    "Create an Adam (Adaptive Momentum) optimizer.\n",
    "\n",
    "```python\n",
    "optimizer = tf.optimizers.Adam(.01)\n",
    "```"
   ]
  },
  {
   "cell_type": "code",
   "execution_count": null,
   "metadata": {},
   "outputs": [],
   "source": [
    "# Code it!"
   ]
  },
  {
   "cell_type": "markdown",
   "metadata": {},
   "source": [
    "#### 10. Define the training function\n",
    "Note the use of the softmax_cross_entropy_with logits loss function."
   ]
  },
  {
   "cell_type": "code",
   "execution_count": null,
   "metadata": {},
   "outputs": [],
   "source": [
    "# Code it!"
   ]
  },
  {
   "cell_type": "code",
   "execution_count": 12,
   "metadata": {
    "jupyter": {
     "source_hidden": true
    },
    "tags": []
   },
   "outputs": [],
   "source": [
    "def train(i):\n",
    "    for n in range(i):\n",
    "        loss=lambda: abs(tf.reduce_mean(tf.nn.softmax_cross_entropy_with_logits(labels=y, logits=perceptron(x))))\n",
    "        optimizer.minimize(loss, [weight, bias])"
   ]
  },
  {
   "cell_type": "markdown",
   "metadata": {},
   "source": [
    "#### 11. Execute the training\n",
    "Train the model for 1000 epochs.\n",
    "\n",
    "```python\n",
    "train(1000)\n",
    "```"
   ]
  },
  {
   "cell_type": "code",
   "execution_count": null,
   "metadata": {},
   "outputs": [],
   "source": [
    "# Code it!"
   ]
  },
  {
   "cell_type": "markdown",
   "metadata": {},
   "source": [
    "#### 12. Print the weights\n",
    "Print the weights to verify that learning has taken place.\n",
    "\n",
    "```python\n",
    "tf.print(weight)\n",
    "```"
   ]
  },
  {
   "cell_type": "code",
   "execution_count": null,
   "metadata": {},
   "outputs": [],
   "source": [
    "# Code it!"
   ]
  },
  {
   "cell_type": "markdown",
   "metadata": {},
   "source": [
    "#### 13. Test the model's accuracy\n",
    "The model's accuracy score is 98% - not bad!\n",
    "\n",
    "```python\n",
    "ypred = perceptron(x)\n",
    "ypred = tf.round(ypred)\n",
    "accuracy_score(y, ypred)\n",
    "```"
   ]
  },
  {
   "cell_type": "code",
   "execution_count": null,
   "metadata": {},
   "outputs": [],
   "source": [
    "# Code it!"
   ]
  }
 ],
 "metadata": {
  "kernelspec": {
   "display_name": "Tensorflow-2.6.0",
   "language": "python",
   "name": "tensorflow-2.6.0"
  },
  "language_info": {
   "codemirror_mode": {
    "name": "ipython",
    "version": 3
   },
   "file_extension": ".py",
   "mimetype": "text/x-python",
   "name": "python",
   "nbconvert_exporter": "python",
   "pygments_lexer": "ipython3",
   "version": "3.9.7"
  }
 },
 "nbformat": 4,
 "nbformat_minor": 4
}
