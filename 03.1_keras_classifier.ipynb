{
 "cells": [
  {
   "cell_type": "markdown",
   "metadata": {},
   "source": [
    "<img src='images/Practicum_AI_Logo.white_outline.svg' width=250 alt='Practicum AI logo'> <img src='https://github.com/PracticumAI/practicumai.github.io/blob/main/images/icons/practicumai_beginner.png?raw=true' align='right' width=50>\n",
    "***\n",
    "# *Practicum AI:* Deep Learning - Keras Binary Classifier\n",
    "\n",
    "This exercise adapted from Baig et al. (2020) <i>The Deep Learning Workshop</i> from <a href=\"https://www.packtpub.com/product/the-deep-learning-workshop/9781839219856\">Packt Publishers</a> (Exercise 2.05, page 79).\n",
    "\n",
    "#### 1. Import libraries\n",
    "Import the necessary libraries.  Note the import of pandas to support basic data wrangling tasks and matplotlib to visualize the data.  Sequential is imported from Keras as it allows us to quickly add layers to a custom neural network.  And because we want the model to consist of a single fully-connected layer, we import Dense as well."
   ]
  },
  {
   "cell_type": "code",
   "execution_count": null,
   "metadata": {},
   "outputs": [],
   "source": [
    "import tensorflow as tf\n",
    "import pandas as pd\n",
    "import matplotlib.pyplot as plt\n",
    "%matplotlib inline\n",
    "\n",
    "# Import Keras libraries\n",
    "from tensorflow.keras.models import Sequential\n",
    "from tensorflow.keras.layers import Dense"
   ]
  },
  {
   "cell_type": "markdown",
   "metadata": {},
   "source": [
    "#### 2. Create a dataframe with data from the dataset\n",
    "\n",
    "```python \n",
    "df = pd.read_csv('data/02.2_data.csv')\n",
    "```\n",
    "### <img src='images/tip_icon.svg' alt=\"Tip icon\" width=40 align=center> Tip\n",
    ">If running on Google Colab, change the code to: <br>\n",
    "    <code>df = pd.read_csv('https://raw.githubusercontent.com/PracticumAI/deep_learning/main/data/02.2_data.csv') </code>"
   ]
  },
  {
   "cell_type": "code",
   "execution_count": 8,
   "metadata": {},
   "outputs": [],
   "source": [
    "# Code it!\n"
   ]
  },
  {
   "cell_type": "markdown",
   "metadata": {},
   "source": [
    "#### 3. Examine the first 5 rows\n",
    "Use the `head()` method to examine the first 5 rows.\n",
    "\n",
    "```python\n",
    "df.head()\n",
    "```"
   ]
  },
  {
   "cell_type": "code",
   "execution_count": 9,
   "metadata": {},
   "outputs": [],
   "source": [
    "# Code it!\n"
   ]
  },
  {
   "cell_type": "markdown",
   "metadata": {},
   "source": [
    "#### 4. Visualize the data\n",
    "After plotting the data, we see two distinct classes.  \n",
    "- Data points labelled 0 are shown as stars\n",
    "- Data points labelled 1 are shown as triangles "
   ]
  },
  {
   "cell_type": "code",
   "execution_count": 4,
   "metadata": {},
   "outputs": [
    {
     "data": {
      "text/plain": [
       "<matplotlib.collections.PathCollection at 0x2b2442afb640>"
      ]
     },
     "execution_count": 4,
     "metadata": {},
     "output_type": "execute_result"
    },
    {
     "data": {
      "image/png": "[encoded data removed]",
      "text/plain": [
       "<Figure size 432x288 with 1 Axes>"
      ]
     },
     "metadata": {
      "needs_background": "light"
     },
     "output_type": "display_data"
    }
   ],
   "source": [
    "plt.scatter(df[df['label'] == 0]['x1'], \\\n",
    "            df[df['label'] == 0]['x2'], \\\n",
    "            marker = '*')\n",
    "\n",
    "plt.scatter(df[df['label'] == 1]['x1'], \\\n",
    "            df[df['label'] == 1]['x2'], \\\n",
    "            marker = '<')"
   ]
  },
  {
   "cell_type": "markdown",
   "metadata": {},
   "source": [
    "#### 5. Define variables for the features and labels\n",
    "Prepare the data for the model, with X_input containing the features and y_label the corresponding labels for each feature.\n",
    "\n",
    "```python\n",
    "x_input = df[['x1','x2']].values\n",
    "y_label = df[['label']].values\n",
    "```"
   ]
  },
  {
   "cell_type": "code",
   "execution_count": 7,
   "metadata": {},
   "outputs": [],
   "source": [
    "# Code it\n"
   ]
  },
  {
   "cell_type": "markdown",
   "metadata": {},
   "source": [
    "#### 6. Create a simple (sequential) neural network with a single layer with one node\n",
    "Instantiate a Sequential model and then add a Dense layer to it.  The parameters in `model.add(Dense())` are as follows:\n",
    "\n",
    "- *units* : number of neurons in the layer\n",
    "- *input_dim* : the number of incoming features (2 in this case)\n",
    "- *activation* : the type of activation function\n",
    "\n",
    "```python\n",
    "model = Sequential()\n",
    "model.add(Dense(units = 1, input_dim = 2, activation = 'sigmoid'))\n",
    "```"
   ]
  },
  {
   "cell_type": "code",
   "execution_count": 6,
   "metadata": {},
   "outputs": [],
   "source": [
    "# Code it!\n"
   ]
  },
  {
   "cell_type": "markdown",
   "metadata": {},
   "source": [
    "#### 7. Compile the model\n",
    "Compile the model with the Adam optimizer, the binary_crossentropy loss function, and accuracy metrics.\n",
    "\n",
    "Adam stands for Adaptive Momentum and is a popular optimizer choice.  The binary crossentropy loss function is an appropriate choice, given that this is a binary classifier.  And finally, the *accuracy* metrics parameter turns on display of information such as the number of epochs, the training loss, the training accuracy, the test loss, and the test accuracy during the training process.   \n",
    "\n",
    "```python\n",
    "model.compile(optimizer = 'adam', \\\n",
    "              loss = 'binary_crossentropy',\\\n",
    "              metrics = ['accuracy'])\n",
    "```"
   ]
  },
  {
   "cell_type": "code",
   "execution_count": 5,
   "metadata": {},
   "outputs": [],
   "source": [
    "# Code it!\n"
   ]
  },
  {
   "cell_type": "markdown",
   "metadata": {},
   "source": [
    "#### 8. Examine the model with the summary() method\n",
    "Do a final check of the model's configuration before training.\n",
    "\n",
    "```python\n",
    "model.summary()\n",
    "```"
   ]
  },
  {
   "cell_type": "code",
   "execution_count": 4,
   "metadata": {},
   "outputs": [],
   "source": [
    "# Code it!\n"
   ]
  },
  {
   "cell_type": "markdown",
   "metadata": {},
   "source": [
    "#### 9. Train the model with the fit() method\n",
    "Train the model for 1000 epochs.\n",
    "\n",
    "```python\n",
    "model.fit(x_input, y_label, epochs = 1000)\n",
    "```"
   ]
  },
  {
   "cell_type": "code",
   "execution_count": 1,
   "metadata": {},
   "outputs": [],
   "source": [
    "# Code it!\n"
   ]
  },
  {
   "cell_type": "markdown",
   "metadata": {},
   "source": [
    "#### 10. Evaluate the model with the evaluate() method\n",
    "\n",
    "```python\n",
    "model.evaluate(x_input, y_label)\n",
    "```"
   ]
  },
  {
   "cell_type": "code",
   "execution_count": 2,
   "metadata": {},
   "outputs": [],
   "source": [
    "# Code it!\n"
   ]
  }
 ],
 "metadata": {
  "kernelspec": {
   "display_name": "Tensorflow-2.6.0",
   "language": "python",
   "name": "tensorflow-2.6.0"
  },
  "language_info": {
   "codemirror_mode": {
    "name": "ipython",
    "version": 3
   },
   "file_extension": ".py",
   "mimetype": "text/x-python",
   "name": "python",
   "nbconvert_exporter": "python",
   "pygments_lexer": "ipython3",
   "version": "3.9.7"
  }
 },
 "nbformat": 4,
 "nbformat_minor": 4
}
